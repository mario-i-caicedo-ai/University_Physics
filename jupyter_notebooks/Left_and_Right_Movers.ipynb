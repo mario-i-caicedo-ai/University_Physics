{
  "nbformat": 4,
  "nbformat_minor": 0,
  "metadata": {
    "colab": {
      "provenance": [],
      "authorship_tag": "ABX9TyNLWcbf/PMnFUZI1LMhk7ao",
      "include_colab_link": true
    },
    "kernelspec": {
      "name": "python3",
      "display_name": "Python 3"
    },
    "language_info": {
      "name": "python"
    }
  },
  "cells": [
    {
      "cell_type": "markdown",
      "metadata": {
        "id": "view-in-github",
        "colab_type": "text"
      },
      "source": [
        "<a href=\"https://colab.research.google.com/github/mario-i-caicedo-ai/University_Physics/blob/main/jupyter_notebooks/Left_and_Right_Movers.ipynb\" target=\"_parent\"><img src=\"https://colab.research.google.com/assets/colab-badge.svg\" alt=\"Open In Colab\"/></a>"
      ]
    },
    {
      "cell_type": "markdown",
      "source": [
        "# Left and Right Movers\n",
        "\n",
        "A simple jupyter notebook coded by Gemini  under the propmting of Mario I. Caicedo\n",
        "\n",
        "The purpose of this notebook is twofold,\n",
        "\n",
        "* Introduce the ideas of left and right movers to sophomore students whio are taking Physics For Sciences and Engineering Course and\n",
        "\n",
        "* Show said students the magic of Python, jupyter notebooks and colabe.\n",
        "\n",
        "\n"
      ],
      "metadata": {
        "id": "7o4qvb0S4Azj"
      }
    },
    {
      "cell_type": "markdown",
      "source": [
        "## Cell 1: Imports\n",
        "\n",
        "These are the libraries needed for numerical operations, plotting, animation, and interactive widgets."
      ],
      "metadata": {
        "id": "lHlzcH7VskrD"
      }
    },
    {
      "cell_type": "code",
      "execution_count": null,
      "metadata": {
        "id": "sA_xhgHXrapS"
      },
      "outputs": [],
      "source": [
        "# Import the necessary libraries\n",
        "import numpy as np # For numerical operations (like linspace, exp)\n",
        "import matplotlib.pyplot as plt # For creating plots\n",
        "import matplotlib.animation as animation # For creating animations\n",
        "from IPython.display import HTML, display, clear_output # For displaying animations and managing output in Colab\n",
        "import ipywidgets as widgets # For creating interactive elements like sliders\n",
        "from ipywidgets import interact, FloatSlider, VBox, Layout # Specific ipywidgets components"
      ]
    },
    {
      "cell_type": "markdown",
      "source": [
        "----------------------\n",
        "## Cell 2: Define the Pulse Shape Function\n",
        "\n",
        "This function defines the shape of our disturbance. We choose a -non normalized- Gaussian function\n",
        "$$\n",
        "G(x,t,v)=e^{\\frac{(x-vt)^2}{2\\sigma^2}}\n",
        "$$\n",
        "\n",
        "The notation is selfexplanatory\n"
      ],
      "metadata": {
        "id": "gVtEqlRGriTh"
      }
    },
    {
      "cell_type": "code",
      "source": [
        "# Define the mathematical function that represents our pulse.\n",
        "# We'll use a Gaussian pulse, which is a common and smooth wave shape.\n",
        "# The (x - v*t) term is what makes the pulse move along the x-axis.\n",
        "def gaussian_pulse(x, t, v, A, sigma):\n",
        "    \"\"\"\n",
        "    Generates a Gaussian pulse at a given position and time.\n",
        "\n",
        "    Args:\n",
        "        x (numpy.ndarray): Array of spatial points (e.g., the x-axis).\n",
        "        t (float): The current moment in time.\n",
        "        v (float): The velocity of the pulse (physical velocity).\n",
        "        A (float): The maximum amplitude (height) of the pulse.\n",
        "        sigma (float): Controls the width (spread) of the pulse.\n",
        "\n",
        "    Returns:\n",
        "        numpy.ndarray: The amplitude u(x,t) of the pulse at each x-point for the given time.\n",
        "    \"\"\"\n",
        "    return A * np.exp(-((x - v * t)**2) / (2 * sigma**2))"
      ],
      "metadata": {
        "id": "YtmKPeKqrjVJ"
      },
      "execution_count": null,
      "outputs": []
    },
    {
      "cell_type": "markdown",
      "source": [
        "---------------------------------\n",
        "## Cell 3: Define Animation Parameters\n",
        "\n",
        "These constants control the visual aspects and speed of the animation."
      ],
      "metadata": {
        "id": "3wkrAIOPrpRL"
      }
    },
    {
      "cell_type": "code",
      "source": [
        "# --- Parameters that define our pulse and the animation's scope ---\n",
        "\n",
        "# Pulse characteristics\n",
        "A = 1.0        # Amplitude of the pulse (its maximum height)\n",
        "sigma = 0.5    # Width of the pulse (smaller sigma = narrower pulse)\n",
        "\n",
        "# Spatial domain characteristics\n",
        "x_min = -10.0  # Leftmost x-value displayed on the plot\n",
        "x_max = 10.0   # Rightmost x-value displayed on the plot\n",
        "num_x_points = 500 # Number of points to calculate the pulse shape across the x-axis.\n",
        "                     # More points make the line smoother.\n",
        "\n",
        "# Time domain characteristics\n",
        "t_min = 0.0    # Start time for the animation\n",
        "t_max = 10.0   # End time for the animation\n",
        "num_frames = 200 # Total number of individual pictures (frames) in the animation.\n",
        "                     # More frames make the animation appear smoother.\n",
        "fps = 30       # Frames per second. Higher FPS makes the animation faster.\n",
        "\n",
        "# Create the array of x-values where we will evaluate the pulse\n",
        "x = np.linspace(x_min, x_max, num_x_points)\n",
        "\n",
        "# Create the array of time values, one for each frame\n",
        "t_frames = np.linspace(t_min, t_max, num_frames)\n",
        "\n",
        "# This global variable will store the current velocity value from our slider.\n",
        "# It's 'global' so our animation function can access it directly.\n",
        "global_v_value = 1.0 # Initial velocity for the pulse when the animation first loads"
      ],
      "metadata": {
        "id": "itdzJQIursFa"
      },
      "execution_count": null,
      "outputs": []
    },
    {
      "cell_type": "markdown",
      "source": [
        "----------------------------\n",
        "## Cell 4: Initial Plot Setup\n",
        "\n",
        "Explain that this sets up the empty graph where the pulse will be drawn and updated. line, = ax.plot() creates a \"placeholder\" for the changing data."
      ],
      "metadata": {
        "id": "7SIKe-v5rzfs"
      }
    },
    {
      "cell_type": "code",
      "source": [
        "# --- Set up the initial state of the plot ---\n",
        "\n",
        "# Create a figure and a set of subplots (here, just one plot)\n",
        "fig, ax = plt.subplots(figsize=(10, 6))\n",
        "\n",
        "# Plot the initial state of the pulse (at t_frames[0] and global_v_value).\n",
        "# 'line,' is important: it unpacks the single line object from the list returned by plot().\n",
        "line, = ax.plot(x, gaussian_pulse(x, t_frames[0], global_v_value, A, sigma), 'r-', label='Pulse')\n",
        "\n",
        "# Set the fixed limits for the x and y axes\n",
        "ax.set_xlim(x_min, x_max)\n",
        "ax.set_ylim(-0.2, A * 1.1) # Y-limit slightly above amplitude for better visualization\n",
        "\n",
        "# Add labels and a title (the title will be updated dynamically later)\n",
        "ax.set_xlabel('Position (x)')\n",
        "ax.set_ylabel('Amplitude u(x,t)')\n",
        "ax.set_title(f'Propagating Gaussian Pulse (v = {global_v_value:.1f} m/s)') # Initial title\n",
        "ax.grid(True) # Add a grid for better readability\n",
        "ax.legend() # Display the label defined in ax.plot()\n",
        "\n",
        "# Add a text element to display the current time on the plot itself (optional)\n",
        "time_text = ax.text(0.05, 0.95, '', transform=ax.transAxes, va='top', ha='left', fontsize=12)\n",
        "\n",
        "# It's crucial to close the matplotlib figure here.\n",
        "# This prevents it from displaying as a static plot *outside* the interactive output.\n",
        "plt.close(fig)"
      ],
      "metadata": {
        "id": "E-HNJT1wr0zx"
      },
      "execution_count": null,
      "outputs": []
    },
    {
      "cell_type": "markdown",
      "source": [
        "----------------------\n",
        "## Cell 5: Animation Update Function\n",
        "\n",
        "This function is called repeatedly by the animation engine. Its job is to calculate the new pulse position for the current time and update the plot's data.\n"
      ],
      "metadata": {
        "id": "a-kVylJpr7iU"
      }
    },
    {
      "cell_type": "code",
      "source": [
        "# --- The 'animate' function: This is the core of the animation ---\n",
        "# FuncAnimation will call this function for each frame.\n",
        "# 'i' is the current frame number (from 0 to num_frames - 1).\n",
        "def animate(i):\n",
        "    # Get the current time for this frame\n",
        "    current_time = t_frames[i]\n",
        "\n",
        "    # Calculate the pulse's y-values at this time, using the global velocity.\n",
        "    y_data = gaussian_pulse(x, current_time, global_v_value, A, sigma)\n",
        "\n",
        "    # Update the y-data of the 'line' object on the plot\n",
        "    line.set_ydata(y_data)\n",
        "\n",
        "    # Update the time display text on the plot\n",
        "    time_text.set_text(f'Time: {current_time:.2f} s')\n",
        "\n",
        "    # Update the title to reflect the current velocity (since global_v_value can change)\n",
        "    ax.set_title(f'Propagating Gaussian Pulse (v = {global_v_value:.1f} m/s)')\n",
        "\n",
        "    # Return all the plot elements (artists) that were modified.\n",
        "    # This is important for 'blit=True' optimization.\n",
        "    return line, time_text, ax.title"
      ],
      "metadata": {
        "id": "XmCkmawpr87a"
      },
      "execution_count": null,
      "outputs": []
    },
    {
      "cell_type": "markdown",
      "source": [
        "-------------------------------------------\n",
        "## Cell 6: Interactive Slider Setup\n",
        "\n",
        "This cell creates the slider widget and defines what happens when the slider is moved. The on_v_slider_change function updates our global_v_value."
      ],
      "metadata": {
        "id": "Qe_zuzw6sCT2"
      }
    },
    {
      "cell_type": "code",
      "source": [
        "# --- Create the ipywidgets Slider for interactive control of velocity ---\n",
        "\n",
        "# Define the slider widget itself.\n",
        "v_slider = FloatSlider(\n",
        "    min=-2.0,       # Minimum velocity value the slider can set\n",
        "    max=2.0,        # Maximum velocity value the slider can set\n",
        "    step=0.1,       # The increment/decrement step when moving the slider\n",
        "    value=global_v_value, # The initial position/value of the slider\n",
        "    description='Phase Velocity (v):', # Label displayed next to the slider\n",
        "    orientation='horizontal', # Slider orientation\n",
        "    readout=True,   # Display the current numerical value next to the slider\n",
        "    readout_format='.1f', # Format for the displayed value (1 decimal place)\n",
        "    layout=Layout(width='auto') # Allows the slider width to adjust automatically\n",
        ")\n",
        "\n",
        "# --- Define the Callback Function for the Slider ---\n",
        "# This function is automatically called by ipywidgets whenever the slider's value changes.\n",
        "def on_v_slider_change(change):\n",
        "    # Declare that we intend to modify the global variable 'global_v_value'.\n",
        "    global global_v_value\n",
        "\n",
        "    # Update the global velocity variable with the new value from the slider.\n",
        "    global_v_value = change.new\n",
        "    # IMPORTANT: We do NOT re-run the animation or the plot here.\n",
        "    # The 'animate' function (which is continuously running) will automatically\n",
        "    # pick up this new 'global_v_value' in its next frame update.\n",
        "\n",
        "# Link the slider to the callback function.\n",
        "# 'observe' means: when the 'value' property of 'v_slider' changes, call 'on_v_slider_change'.\n",
        "v_slider.observe(on_v_slider_change, names='value')"
      ],
      "metadata": {
        "id": "sUBC1dt0sEA4"
      },
      "execution_count": null,
      "outputs": []
    },
    {
      "cell_type": "markdown",
      "source": [
        "------------------------------\n",
        "## Cell 7: Create the Animation Object\n",
        "\n",
        "This line puts everything together: the figure, the update function, the frames, and timing. The animation itself starts \"running\" internally here.)"
      ],
      "metadata": {
        "id": "xislsuSMsJHJ"
      }
    },
    {
      "cell_type": "code",
      "source": [
        "# --- Create the animation object ---\n",
        "# This line orchestrates the animation process.\n",
        "# - fig: The matplotlib figure object to animate.\n",
        "# - animate: The function that updates each frame.\n",
        "# - frames: The number of frames in the animation.\n",
        "# - interval: The delay between frames in milliseconds (1000/fps for smooth playback).\n",
        "# - blit=True: Optimizes drawing by only updating parts of the plot that have changed.\n",
        "#              (Can sometimes be tricky with global variables; if issues, try blit=False).\n",
        "ani = animation.FuncAnimation(fig, animate, frames=num_frames, interval=1000/fps, blit=True)"
      ],
      "metadata": {
        "id": "Bk6CJnMRsKOp"
      },
      "execution_count": null,
      "outputs": []
    },
    {
      "cell_type": "markdown",
      "source": [
        "----------------------------------\n",
        "\n",
        "## Cell 8: Display the Animation in the Notebook\n",
        "\n",
        "(Explain that this is the final step to make the slider and the animation visible in your Colab output. You run this cell after defining everything above.)\n",
        "\n"
      ],
      "metadata": {
        "id": "8z8scNLqsO3z"
      }
    },
    {
      "cell_type": "code",
      "source": [
        "# --- Display the interactive widgets and the animation ---\n",
        "\n",
        "# Create an output widget. This acts as a container for our matplotlib animation.\n",
        "animation_output = widgets.Output()\n",
        "\n",
        "# Arrange the slider and the animation output vertically.\n",
        "# 'ui' is the user interface structure that will be displayed.\n",
        "ui = VBox([v_slider, animation_output])\n",
        "\n",
        "# Display the entire UI structure (slider + animation container).\n",
        "display(ui)\n",
        "\n",
        "# Now, crucially, we tell the animation to render itself *into* our 'animation_output' container.\n",
        "# This makes the animation appear below the slider.\n",
        "with animation_output:\n",
        "    display(HTML(ani.to_jshtml()))\n",
        "\n",
        "# Optional: If you also want to save the animation to an MP4 file\n",
        "# (remember this is a separate, non-interactive save process):\n",
        "# video_path = 'moving_pulse.mp4'\n",
        "# print(f\"Saving animation to {video_path} (this might take a moment)...\")\n",
        "# try:\n",
        "#     ani.save(video_path, writer='ffmpeg', fps=fps)\n",
        "#     print(f\"Animation saved successfully to {video_path}\")\n",
        "# except Exception as e:\n",
        "#     print(f\"Error saving animation: {e}\")\n",
        "#     print(\"Ensure ffmpeg is available (it should be in Colab).\")"
      ],
      "metadata": {
        "id": "NcgRIYx6sQSN"
      },
      "execution_count": null,
      "outputs": []
    },
    {
      "cell_type": "markdown",
      "metadata": {
        "id": "3b2f9183"
      },
      "source": [
        "# Houston Community College\n",
        "\n",
        "Replace the following link with the actual URL of the Houston Community College logo.\n",
        "\n",
        "![Houston Community College Logo](URL_OF_THE_LOGO_IMAGE)"
      ]
    }
  ]
}